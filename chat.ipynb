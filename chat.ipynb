{
  "nbformat": 4,
  "nbformat_minor": 0,
  "metadata": {
    "colab": {
      "provenance": [],
      "authorship_tag": "ABX9TyN5HZcq3AXxfNOkKUgg+ky1"
    },
    "kernelspec": {
      "name": "python3",
      "display_name": "Python 3"
    },
    "language_info": {
      "name": "python"
    }
  },
  "cells": [
    {
      "cell_type": "code",
      "execution_count": null,
      "metadata": {
        "id": "VT_OtXNQAt3a"
      },
      "outputs": [],
      "source": [
        "!pip install -U langchain langchain-community langchain-core langchain-openai"
      ]
    },
    {
      "cell_type": "code",
      "source": [
        "from langchain.llms import OpenAI\n",
        "from langchain.prompts import PromptTemplate\n",
        "from langchain.chains import LLMChain, SequentialChain\n",
        "from google.colab import userdata\n",
        "import ipywidgets as widgets\n",
        "from IPython.display import display, clear_output\n",
        "import os\n",
        "\n",
        "try:\n",
        "  openai_api_key = userdata.get('OPENAI_API_KEY')\n",
        "  os.environ['OPENAI_API_KEY'] = openai_api_key\n",
        "except KeyError:\n",
        "  print(\"OPENAI_API_KEY not set\")\n",
        "\n",
        "  llm = OpenAI()"
      ],
      "metadata": {
        "id": "ITf-BFO6AyfP"
      },
      "execution_count": 17,
      "outputs": []
    },
    {
      "cell_type": "code",
      "source": [
        "text_input = widgets.Text(\n",
        "    placeholder=\"Type your prompt here...\"\n",
        ")\n",
        "\n",
        "\n",
        "submit_button = widgets.Button(description=\"Ask StonerGPT \")\n",
        "output_box = widgets.Output()\n",
        "\n",
        "# Function to handle button click\n",
        "def on_submit(b):\n",
        "    with output_box:\n",
        "      clear_output(wait=True)\n",
        "\n",
        "      prompt = PromptTemplate(\n",
        "          input_variables=[\"user_input\"],\n",
        "          template=\"Pretend to be professor Stoner from John Williams book and answer this prompt: {user_input}\",\n",
        "      )\n",
        "\n",
        "      chain = LLMChain(llm=llm, prompt=prompt)\n",
        "      result = chain.run({\"user_input\": text_input.value})\n",
        "      print(result)\n",
        "\n",
        "# Link button click to function\n",
        "submit_button.on_click(on_submit)\n",
        "\n",
        "# Display the input field and button\n",
        "display(text_input, submit_button, output_box)"
      ],
      "metadata": {
        "id": "niwf3NMfBD5q"
      },
      "execution_count": null,
      "outputs": []
    },
    {
      "cell_type": "code",
      "source": [],
      "metadata": {
        "id": "79kmbu0zBqQK"
      },
      "execution_count": 25,
      "outputs": []
    },
    {
      "cell_type": "code",
      "source": [],
      "metadata": {
        "id": "IrTfjibyG41M"
      },
      "execution_count": null,
      "outputs": []
    }
  ]
}